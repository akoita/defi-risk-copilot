{
 "cells": [
  {
   "cell_type": "markdown",
   "id": "8ecce635",
   "metadata": {},
   "source": [
    "# Kaggle Quickstart — DeFi Risk Copilot\n",
    "Enable **BigQuery** in Kaggle, set `PROJECT_ID` in notebook settings or environment, and run."
   ]
  },
  {
   "cell_type": "code",
   "execution_count": null,
   "id": "57a9a7fe",
   "metadata": {},
   "outputs": [],
   "source": [
    "import os\n",
    "from google.cloud import bigquery\n",
    "import pandas as pd\n",
    "import matplotlib.pyplot as plt\n",
    "\n",
    "PROJECT_ID = os.getenv(\"PROJECT_ID\", \"your-gcp-project\")\n",
    "DATASET = os.getenv(\"DATASET\", \"risk_copilot\")\n",
    "\n",
    "client = bigquery.Client(project=PROJECT_ID)\n",
    "\n",
    "q = (\n",
    "    \"SELECT token_address, vol_30d, vol_z, top100_share, lp_removed_30d, explanation \"\n",
    "    f\"FROM `{PROJECT_ID}.{DATASET}.token_alerts` \"\n",
    "    \"ORDER BY vol_z DESC \"\n",
    "    \"LIMIT 15\"\n",
    ")\n",
    "df = client.query(q).result().to_dataframe()\n",
    "display(df.head(10))\n",
    "\n",
    "plt.figure()\n",
    "df.sort_values(\"vol_z\", ascending=False).head(10).plot(x=\"token_address\", y=\"vol_z\", kind=\"bar\")\n",
    "plt.title(\"Top tokens by volume Z-score\")\n",
    "plt.xticks(rotation=45, ha='right')\n",
    "plt.tight_layout()\n",
    "os.makedirs(\"outputs\", exist_ok=True)\n",
    "plt.savefig(\"outputs/top_tokens_volz.png\", dpi=160)\n",
    "print(\"Saved figure to outputs/top_tokens_volz.png\")\n"
   ]
  },
  {
   "cell_type": "markdown",
   "id": "94d4efeb",
   "metadata": {},
   "source": [
    "## Export CSV for submission"
   ]
  },
  {
   "cell_type": "code",
   "execution_count": null,
   "id": "995d3732",
   "metadata": {},
   "outputs": [],
   "source": [
    "df.to_csv(\"outputs/token_alerts_sample.csv\", index=False)\n",
    "print(\"Saved outputs/token_alerts_sample.csv\")\n"
   ]
  }
 ],
 "metadata": {},
 "nbformat": 4,
 "nbformat_minor": 5
}
